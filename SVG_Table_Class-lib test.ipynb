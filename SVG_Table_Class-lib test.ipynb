{
 "metadata": {
  "name": "SVG_Table_Class-lib test"
 },
 "nbformat": 3,
 "nbformat_minor": 0,
 "worksheets": [
  {
   "cells": [
    {
     "cell_type": "heading",
     "level": 1,
     "metadata": {},
     "source": [
      "SVG Table Class"
     ]
    },
    {
     "cell_type": "code",
     "collapsed": false,
     "input": [
      "cd Git_quickref_project/"
     ],
     "language": "python",
     "metadata": {},
     "outputs": [
      {
       "output_type": "stream",
       "stream": "stdout",
       "text": [
        "/home/damon/Documents/CODE/Programing/Python/IPython/Quickref/Git_quickref_project\n"
       ]
      }
     ],
     "prompt_number": 1
    },
    {
     "cell_type": "code",
     "collapsed": false,
     "input": [
      "from IPython.display import SVG"
     ],
     "language": "python",
     "metadata": {},
     "outputs": [],
     "prompt_number": 2
    },
    {
     "cell_type": "code",
     "collapsed": false,
     "input": [
      "%run SVG_Table_Classes"
     ],
     "language": "python",
     "metadata": {},
     "outputs": [],
     "prompt_number": 3
    },
    {
     "cell_type": "markdown",
     "metadata": {},
     "source": [
      "This is a class developed to draw SVG tables with text for IPython Qick Referance."
     ]
    },
    {
     "cell_type": "code",
     "collapsed": false,
     "input": [
      "test=SVG_Text_obj(\"testing\")\n",
      "SVG(test.get_SVG_text())"
     ],
     "language": "python",
     "metadata": {},
     "outputs": [
      {
       "output_type": "pyout",
       "prompt_number": 4,
       "svg": [
        "<text x=\"6\" y=\"13\" font-size= \"12\" font-weight = \"normal\" style=\"fill:rgb(0, 0, 0)\">testing</text>\n"
       ],
       "text": [
        "<IPython.core.display.SVG at 0x4b63650>"
       ]
      }
     ],
     "prompt_number": 4
    },
    {
     "cell_type": "code",
     "collapsed": false,
     "input": [
      "head=Table_Header(text=\"Header\",width=100)\n",
      "print(head.text)\n",
      "print(head.get_SVG_header())\n",
      "print(\"The bottom of the header is at {} px\\n\".format(head.bottom))\n",
      "Text=Set_SVG_view(102, head.bottom+2, head.get_SVG_header())\n",
      "print(Text)\n",
      "SVG(Text)"
     ],
     "language": "python",
     "metadata": {},
     "outputs": [
      {
       "output_type": "stream",
       "stream": "stdout",
       "text": [
        "Header\n",
        "<rect  height=\"25\" width=\"100\"  style=\" fill:rgb(255, 255, 255); stroke:rgb(0, 0, 0); stroke-width:1\"  x=\"1\"  y=\"1\" />\n",
        "<text x=\"7\" y=\"18\" font-size= \"14\" font-weight = \"bold\" style=\"fill:rgb(0, 0, 0)\">Header</text>\n",
        "\n",
        "The bottom of the header is at 25 px\n",
        "\n",
        "<svg viewBox=\"0 0 102 27\" height=\"27\">\n",
        "<rect  height=\"25\" width=\"100\"  style=\" fill:rgb(255, 255, 255); stroke:rgb(0, 0, 0); stroke-width:1\"  x=\"1\"  y=\"1\" />\n",
        "<text x=\"7\" y=\"18\" font-size= \"14\" font-weight = \"bold\" style=\"fill:rgb(0, 0, 0)\">Header</text>\n",
        "</svg>\n"
       ]
      },
      {
       "output_type": "pyout",
       "prompt_number": 5,
       "svg": [
        "<svg height=\"27\" viewBox=\"0 0 102 27\">\n",
        "<rect height=\"25\" style=\" fill:rgb(255, 255, 255); stroke:rgb(0, 0, 0); stroke-width:1\" width=\"100\" x=\"1\" y=\"1\"/>\n",
        "<text font-size=\"14\" font-weight=\"bold\" style=\"fill:rgb(0, 0, 0)\" x=\"7\" y=\"18\">Header</text>\n",
        "</svg>"
       ],
       "text": [
        "<IPython.core.display.SVG at 0x4b8ca50>"
       ]
      }
     ],
     "prompt_number": 5
    },
    {
     "cell_type": "markdown",
     "metadata": {},
     "source": [
      "####You should see a white rectangle the header text inside above"
     ]
    },
    {
     "cell_type": "code",
     "collapsed": false,
     "input": [
      "rows = Table_rows()\n",
      "#rows.set_count(6)\n",
      "text_list = [[\"Area\\ntest\"],[\"Area\"],[\"Dog\"],[\"Area\"],[\"Area\"]]\n",
      "rows.set_text_list(text_list)\n",
      "rows.column_locations=[0,40]\n",
      "rows.__height__=30 #only the minimum value is set automatically\n",
      "print(rows.__count__)\n",
      "print(rows.bottom)\n",
      "print(rows.get_SVG_rows())\n",
      "Text=Set_SVG_view(rows.row_width+2*rows.line_width, rows.bottom+rows.line_width*2+60, rows.get_SVG_rows())\n",
      "SVG(Text)\n"
     ],
     "language": "python",
     "metadata": {},
     "outputs": [
      {
       "output_type": "stream",
       "stream": "stdout",
       "text": [
        "5\n",
        "155\n",
        "<rect  height=\"35\" width=\"100\"  style=\" fill:rgb(255, 255, 255); stroke:rgb(0, 0, 0); stroke-width:1\"  x=\"1\"  y=\"1\" />\n",
        "<text x=\"6\" y=\"13\" font-size= \"12\" font-weight = \"normal\" style=\"fill:rgb(0, 0, 0)\">Area<tspan x=\"6\" y=\"27\">test</tspan></text>\n",
        "<rect  height=\"35\" width=\"100\"  style=\" fill:rgb(255, 255, 255); stroke:rgb(0, 0, 0); stroke-width:1\"  x=\"1\"  y=\"36\" />\n",
        "<text x=\"6\" y=\"57\" font-size= \"12\" font-weight = \"normal\" style=\"fill:rgb(0, 0, 0)\">Area</text>\n",
        "<rect  height=\"35\" width=\"100\"  style=\" fill:rgb(255, 255, 255); stroke:rgb(0, 0, 0); stroke-width:1\"  x=\"1\"  y=\"71\" />\n",
        "<text x=\"6\" y=\"92\" font-size= \"12\" font-weight = \"normal\" style=\"fill:rgb(0, 0, 0)\">Dog</text>\n",
        "<rect  height=\"35\" width=\"100\"  style=\" fill:rgb(255, 255, 255); stroke:rgb(0, 0, 0); stroke-width:1\"  x=\"1\"  y=\"106\" />\n",
        "<text x=\"6\" y=\"127\" font-size= \"12\" font-weight = \"normal\" style=\"fill:rgb(0, 0, 0)\">Area</text>\n",
        "<rect  height=\"35\" width=\"100\"  style=\" fill:rgb(255, 255, 255); stroke:rgb(0, 0, 0); stroke-width:1\"  x=\"1\"  y=\"141\" />\n",
        "<text x=\"6\" y=\"162\" font-size= \"12\" font-weight = \"normal\" style=\"fill:rgb(0, 0, 0)\">Area</text>\n",
        "<line x1=\"40\" y1=\"1\" x2=\"40\" y2=\"176\" style=\"stroke:rgb(0, 0, 0); stroke-width:1\"/>\n",
        "\n"
       ]
      },
      {
       "output_type": "pyout",
       "prompt_number": 17,
       "svg": [
        "<svg height=\"217\" viewBox=\"0 0 102 217\">\n",
        "<rect height=\"35\" style=\" fill:rgb(255, 255, 255); stroke:rgb(0, 0, 0); stroke-width:1\" width=\"100\" x=\"1\" y=\"1\"/>\n",
        "<text font-size=\"12\" font-weight=\"normal\" style=\"fill:rgb(0, 0, 0)\" x=\"6\" y=\"13\">Area<tspan x=\"6\" y=\"27\">test</tspan></text>\n",
        "<rect height=\"35\" style=\" fill:rgb(255, 255, 255); stroke:rgb(0, 0, 0); stroke-width:1\" width=\"100\" x=\"1\" y=\"36\"/>\n",
        "<text font-size=\"12\" font-weight=\"normal\" style=\"fill:rgb(0, 0, 0)\" x=\"6\" y=\"57\">Area</text>\n",
        "<rect height=\"35\" style=\" fill:rgb(255, 255, 255); stroke:rgb(0, 0, 0); stroke-width:1\" width=\"100\" x=\"1\" y=\"71\"/>\n",
        "<text font-size=\"12\" font-weight=\"normal\" style=\"fill:rgb(0, 0, 0)\" x=\"6\" y=\"92\">Dog</text>\n",
        "<rect height=\"35\" style=\" fill:rgb(255, 255, 255); stroke:rgb(0, 0, 0); stroke-width:1\" width=\"100\" x=\"1\" y=\"106\"/>\n",
        "<text font-size=\"12\" font-weight=\"normal\" style=\"fill:rgb(0, 0, 0)\" x=\"6\" y=\"127\">Area</text>\n",
        "<rect height=\"35\" style=\" fill:rgb(255, 255, 255); stroke:rgb(0, 0, 0); stroke-width:1\" width=\"100\" x=\"1\" y=\"141\"/>\n",
        "<text font-size=\"12\" font-weight=\"normal\" style=\"fill:rgb(0, 0, 0)\" x=\"6\" y=\"162\">Area</text>\n",
        "<line style=\"stroke:rgb(0, 0, 0); stroke-width:1\" x1=\"40\" x2=\"40\" y1=\"1\" y2=\"176\"/>\n",
        "</svg>"
       ],
       "text": [
        "<IPython.core.display.SVG at 0x4b9fd90>"
       ]
      }
     ],
     "prompt_number": 17
    },
    {
     "cell_type": "code",
     "collapsed": false,
     "input": [
      "rows = Table_rows()\n",
      "rows.set_count(6)\n",
      "text_list = [[\"Area\"],[\"Area\"],[\"Dog\"],[\"Area\"],[\"Area\"]]\n",
      "rows.set_text_list(text_list)\n",
      "rows.column_locations=[0,60]\n",
      "print(rows.__count__)\n",
      "print(rows.bottom)\n",
      "print(rows.get_SVG_rows())\n",
      "Text=Set_SVG_view(rows.row_width+2*rows.line_width, rows.bottom+rows.line_width*2+60, rows.get_SVG_rows())\n",
      "SVG(Text)"
     ],
     "language": "python",
     "metadata": {},
     "outputs": [
      {
       "output_type": "stream",
       "stream": "stdout",
       "text": [
        "6\n",
        "102\n",
        "<rect  height=\"22\" width=\"100\"  style=\" fill:rgb(255, 255, 255); stroke:rgb(0, 0, 0); stroke-width:1\"  x=\"1\"  y=\"1\" />\n",
        "<text x=\"6\" y=\"16\" font-size= \"12\" font-weight = \"normal\" style=\"fill:rgb(0, 0, 0)\">Area</text>\n",
        "<rect  height=\"22\" width=\"100\"  style=\" fill:rgb(255, 255, 255); stroke:rgb(0, 0, 0); stroke-width:1\"  x=\"1\"  y=\"23\" />\n",
        "<text x=\"6\" y=\"38\" font-size= \"12\" font-weight = \"normal\" style=\"fill:rgb(0, 0, 0)\">Area</text>\n",
        "<rect  height=\"22\" width=\"100\"  style=\" fill:rgb(255, 255, 255); stroke:rgb(0, 0, 0); stroke-width:1\"  x=\"1\"  y=\"45\" />\n",
        "<text x=\"6\" y=\"60\" font-size= \"12\" font-weight = \"normal\" style=\"fill:rgb(0, 0, 0)\">Dog</text>\n",
        "<rect  height=\"22\" width=\"100\"  style=\" fill:rgb(255, 255, 255); stroke:rgb(0, 0, 0); stroke-width:1\"  x=\"1\"  y=\"67\" />\n",
        "<text x=\"6\" y=\"82\" font-size= \"12\" font-weight = \"normal\" style=\"fill:rgb(0, 0, 0)\">Area</text>\n",
        "<rect  height=\"22\" width=\"100\"  style=\" fill:rgb(255, 255, 255); stroke:rgb(0, 0, 0); stroke-width:1\"  x=\"1\"  y=\"89\" />\n",
        "<text x=\"6\" y=\"104\" font-size= \"12\" font-weight = \"normal\" style=\"fill:rgb(0, 0, 0)\">Area</text>\n",
        "<rect  height=\"22\" width=\"100\"  style=\" fill:rgb(255, 255, 255); stroke:rgb(0, 0, 0); stroke-width:1\"  x=\"1\"  y=\"111\" />\n",
        "<line x1=\"60\" y1=\"1\" x2=\"60\" y2=\"133\" style=\"stroke:rgb(0, 0, 0); stroke-width:1\"/>\n",
        "\n"
       ]
      },
      {
       "output_type": "pyout",
       "prompt_number": 16,
       "svg": [
        "<svg height=\"164\" viewBox=\"0 0 102 164\">\n",
        "<rect height=\"22\" style=\" fill:rgb(255, 255, 255); stroke:rgb(0, 0, 0); stroke-width:1\" width=\"100\" x=\"1\" y=\"1\"/>\n",
        "<text font-size=\"12\" font-weight=\"normal\" style=\"fill:rgb(0, 0, 0)\" x=\"6\" y=\"16\">Area</text>\n",
        "<rect height=\"22\" style=\" fill:rgb(255, 255, 255); stroke:rgb(0, 0, 0); stroke-width:1\" width=\"100\" x=\"1\" y=\"23\"/>\n",
        "<text font-size=\"12\" font-weight=\"normal\" style=\"fill:rgb(0, 0, 0)\" x=\"6\" y=\"38\">Area</text>\n",
        "<rect height=\"22\" style=\" fill:rgb(255, 255, 255); stroke:rgb(0, 0, 0); stroke-width:1\" width=\"100\" x=\"1\" y=\"45\"/>\n",
        "<text font-size=\"12\" font-weight=\"normal\" style=\"fill:rgb(0, 0, 0)\" x=\"6\" y=\"60\">Dog</text>\n",
        "<rect height=\"22\" style=\" fill:rgb(255, 255, 255); stroke:rgb(0, 0, 0); stroke-width:1\" width=\"100\" x=\"1\" y=\"67\"/>\n",
        "<text font-size=\"12\" font-weight=\"normal\" style=\"fill:rgb(0, 0, 0)\" x=\"6\" y=\"82\">Area</text>\n",
        "<rect height=\"22\" style=\" fill:rgb(255, 255, 255); stroke:rgb(0, 0, 0); stroke-width:1\" width=\"100\" x=\"1\" y=\"89\"/>\n",
        "<text font-size=\"12\" font-weight=\"normal\" style=\"fill:rgb(0, 0, 0)\" x=\"6\" y=\"104\">Area</text>\n",
        "<rect height=\"22\" style=\" fill:rgb(255, 255, 255); stroke:rgb(0, 0, 0); stroke-width:1\" width=\"100\" x=\"1\" y=\"111\"/>\n",
        "<line style=\"stroke:rgb(0, 0, 0); stroke-width:1\" x1=\"60\" x2=\"60\" y1=\"1\" y2=\"133\"/>\n",
        "</svg>"
       ],
       "text": [
        "<IPython.core.display.SVG at 0x4bc11d0>"
       ]
      }
     ],
     "prompt_number": 16
    },
    {
     "cell_type": "code",
     "collapsed": false,
     "input": [
      "rows = Table_rows()\n",
      "rows.set_count(6)\n",
      "text_list = [[\"Area\\n new line\"],[\"Area\"],[\"Dog\"],[\"Area\"],[\"Area\"]]\n",
      "rows.set_text_list(text_list)\n",
      "rows.__height__=25 #only the minimum value is set automatically\n",
      "rows.column_locations=[0,60]\n",
      "Text=Set_SVG_view(rows.row_width+2*rows.line_width, rows.bottom+rows.line_width*2+72, rows.get_SVG_rows())\n",
      "SVG(Text)"
     ],
     "language": "python",
     "metadata": {},
     "outputs": [
      {
       "output_type": "pyout",
       "prompt_number": 14,
       "svg": [
        "<svg height=\"230\" viewBox=\"0 0 102 230\">\n",
        "<rect height=\"36\" style=\" fill:rgb(255, 255, 255); stroke:rgb(0, 0, 0); stroke-width:1\" width=\"100\" x=\"1\" y=\"1\"/>\n",
        "<text font-size=\"12\" font-weight=\"normal\" style=\"fill:rgb(0, 0, 0)\" x=\"6\" y=\"13\">Area<tspan x=\"6\" y=\"27\"> new line</tspan></text>\n",
        "<rect height=\"36\" style=\" fill:rgb(255, 255, 255); stroke:rgb(0, 0, 0); stroke-width:1\" width=\"100\" x=\"1\" y=\"37\"/>\n",
        "<text font-size=\"12\" font-weight=\"normal\" style=\"fill:rgb(0, 0, 0)\" x=\"6\" y=\"59\">Area</text>\n",
        "<rect height=\"36\" style=\" fill:rgb(255, 255, 255); stroke:rgb(0, 0, 0); stroke-width:1\" width=\"100\" x=\"1\" y=\"73\"/>\n",
        "<text font-size=\"12\" font-weight=\"normal\" style=\"fill:rgb(0, 0, 0)\" x=\"6\" y=\"95\">Dog</text>\n",
        "<rect height=\"36\" style=\" fill:rgb(255, 255, 255); stroke:rgb(0, 0, 0); stroke-width:1\" width=\"100\" x=\"1\" y=\"109\"/>\n",
        "<text font-size=\"12\" font-weight=\"normal\" style=\"fill:rgb(0, 0, 0)\" x=\"6\" y=\"131\">Area</text>\n",
        "<rect height=\"36\" style=\" fill:rgb(255, 255, 255); stroke:rgb(0, 0, 0); stroke-width:1\" width=\"100\" x=\"1\" y=\"145\"/>\n",
        "<text font-size=\"12\" font-weight=\"normal\" style=\"fill:rgb(0, 0, 0)\" x=\"6\" y=\"167\">Area</text>\n",
        "<rect height=\"36\" style=\" fill:rgb(255, 255, 255); stroke:rgb(0, 0, 0); stroke-width:1\" width=\"100\" x=\"1\" y=\"181\"/>\n",
        "<line style=\"stroke:rgb(0, 0, 0); stroke-width:1\" x1=\"60\" x2=\"60\" y1=\"1\" y2=\"217\"/>\n",
        "</svg>"
       ],
       "text": [
        "<IPython.core.display.SVG at 0x4bb2950>"
       ]
      }
     ],
     "prompt_number": 14
    },
    {
     "cell_type": "code",
     "collapsed": false,
     "input": [
      "head=Table_Header(text=\"Header\",width=100)\n",
      "\n",
      "\n",
      "rows = Table_rows(top_left=[0,head.bottom])\n",
      "rows.set_count(6)\n",
      "text_list = [[\"Area\",\"blue\"],[\"Area\",\"blue\"],[\"Dog\",\"blue\"],[\"Area\",\"blue\"],[\"Area\",\"blue\"]]\n",
      "rows.set_text_list(text_list)\n",
      "rows.column_locations=[0,50]\n",
      "rows.x_shift=5\n",
      "display_text=head.get_SVG_header()+rows.get_SVG_rows()\n",
      "Text=Set_SVG_view(102, rows.bottom+32, display_text)\n",
      "print(Text)\n",
      "SVG(Text)"
     ],
     "language": "python",
     "metadata": {},
     "outputs": [
      {
       "output_type": "stream",
       "stream": "stdout",
       "text": [
        "<svg viewBox=\"0 0 102 159\" height=\"159\">\n",
        "<rect  height=\"25\" width=\"100\"  style=\" fill:rgb(255, 255, 255); stroke:rgb(0, 0, 0); stroke-width:1\"  x=\"1\"  y=\"1\" />\n",
        "<text x=\"7\" y=\"18\" font-size= \"14\" font-weight = \"bold\" style=\"fill:rgb(0, 0, 0)\">Header</text>\n",
        "<rect  height=\"22\" width=\"100\"  style=\" fill:rgb(255, 255, 255); stroke:rgb(0, 0, 0); stroke-width:1\"  x=\"1\"  y=\"26\" />\n",
        "<text x=\"11\" y=\"41\" font-size= \"12\" font-weight = \"normal\" style=\"fill:rgb(0, 0, 0)\">Area</text>\n",
        "<text x=\"61\" y=\"41\" font-size= \"12\" font-weight = \"normal\" style=\"fill:rgb(0, 0, 0)\">blue</text>\n",
        "<rect  height=\"22\" width=\"100\"  style=\" fill:rgb(255, 255, 255); stroke:rgb(0, 0, 0); stroke-width:1\"  x=\"1\"  y=\"48\" />\n",
        "<text x=\"11\" y=\"63\" font-size= \"12\" font-weight = \"normal\" style=\"fill:rgb(0, 0, 0)\">Area</text>\n",
        "<text x=\"61\" y=\"63\" font-size= \"12\" font-weight = \"normal\" style=\"fill:rgb(0, 0, 0)\">blue</text>\n",
        "<rect  height=\"22\" width=\"100\"  style=\" fill:rgb(255, 255, 255); stroke:rgb(0, 0, 0); stroke-width:1\"  x=\"1\"  y=\"70\" />\n",
        "<text x=\"11\" y=\"85\" font-size= \"12\" font-weight = \"normal\" style=\"fill:rgb(0, 0, 0)\">Dog</text>\n",
        "<text x=\"61\" y=\"85\" font-size= \"12\" font-weight = \"normal\" style=\"fill:rgb(0, 0, 0)\">blue</text>\n",
        "<rect  height=\"22\" width=\"100\"  style=\" fill:rgb(255, 255, 255); stroke:rgb(0, 0, 0); stroke-width:1\"  x=\"1\"  y=\"92\" />\n",
        "<text x=\"11\" y=\"107\" font-size= \"12\" font-weight = \"normal\" style=\"fill:rgb(0, 0, 0)\">Area</text>\n",
        "<text x=\"61\" y=\"107\" font-size= \"12\" font-weight = \"normal\" style=\"fill:rgb(0, 0, 0)\">blue</text>\n",
        "<rect  height=\"22\" width=\"100\"  style=\" fill:rgb(255, 255, 255); stroke:rgb(0, 0, 0); stroke-width:1\"  x=\"1\"  y=\"114\" />\n",
        "<text x=\"11\" y=\"129\" font-size= \"12\" font-weight = \"normal\" style=\"fill:rgb(0, 0, 0)\">Area</text>\n",
        "<text x=\"61\" y=\"129\" font-size= \"12\" font-weight = \"normal\" style=\"fill:rgb(0, 0, 0)\">blue</text>\n",
        "<rect  height=\"22\" width=\"100\"  style=\" fill:rgb(255, 255, 255); stroke:rgb(0, 0, 0); stroke-width:1\"  x=\"1\"  y=\"136\" />\n",
        "<line x1=\"50\" y1=\"26\" x2=\"50\" y2=\"158\" style=\"stroke:rgb(0, 0, 0); stroke-width:1\"/>\n",
        "</svg>\n"
       ]
      },
      {
       "output_type": "pyout",
       "prompt_number": 15,
       "svg": [
        "<svg height=\"159\" viewBox=\"0 0 102 159\">\n",
        "<rect height=\"25\" style=\" fill:rgb(255, 255, 255); stroke:rgb(0, 0, 0); stroke-width:1\" width=\"100\" x=\"1\" y=\"1\"/>\n",
        "<text font-size=\"14\" font-weight=\"bold\" style=\"fill:rgb(0, 0, 0)\" x=\"7\" y=\"18\">Header</text>\n",
        "<rect height=\"22\" style=\" fill:rgb(255, 255, 255); stroke:rgb(0, 0, 0); stroke-width:1\" width=\"100\" x=\"1\" y=\"26\"/>\n",
        "<text font-size=\"12\" font-weight=\"normal\" style=\"fill:rgb(0, 0, 0)\" x=\"11\" y=\"41\">Area</text>\n",
        "<text font-size=\"12\" font-weight=\"normal\" style=\"fill:rgb(0, 0, 0)\" x=\"61\" y=\"41\">blue</text>\n",
        "<rect height=\"22\" style=\" fill:rgb(255, 255, 255); stroke:rgb(0, 0, 0); stroke-width:1\" width=\"100\" x=\"1\" y=\"48\"/>\n",
        "<text font-size=\"12\" font-weight=\"normal\" style=\"fill:rgb(0, 0, 0)\" x=\"11\" y=\"63\">Area</text>\n",
        "<text font-size=\"12\" font-weight=\"normal\" style=\"fill:rgb(0, 0, 0)\" x=\"61\" y=\"63\">blue</text>\n",
        "<rect height=\"22\" style=\" fill:rgb(255, 255, 255); stroke:rgb(0, 0, 0); stroke-width:1\" width=\"100\" x=\"1\" y=\"70\"/>\n",
        "<text font-size=\"12\" font-weight=\"normal\" style=\"fill:rgb(0, 0, 0)\" x=\"11\" y=\"85\">Dog</text>\n",
        "<text font-size=\"12\" font-weight=\"normal\" style=\"fill:rgb(0, 0, 0)\" x=\"61\" y=\"85\">blue</text>\n",
        "<rect height=\"22\" style=\" fill:rgb(255, 255, 255); stroke:rgb(0, 0, 0); stroke-width:1\" width=\"100\" x=\"1\" y=\"92\"/>\n",
        "<text font-size=\"12\" font-weight=\"normal\" style=\"fill:rgb(0, 0, 0)\" x=\"11\" y=\"107\">Area</text>\n",
        "<text font-size=\"12\" font-weight=\"normal\" style=\"fill:rgb(0, 0, 0)\" x=\"61\" y=\"107\">blue</text>\n",
        "<rect height=\"22\" style=\" fill:rgb(255, 255, 255); stroke:rgb(0, 0, 0); stroke-width:1\" width=\"100\" x=\"1\" y=\"114\"/>\n",
        "<text font-size=\"12\" font-weight=\"normal\" style=\"fill:rgb(0, 0, 0)\" x=\"11\" y=\"129\">Area</text>\n",
        "<text font-size=\"12\" font-weight=\"normal\" style=\"fill:rgb(0, 0, 0)\" x=\"61\" y=\"129\">blue</text>\n",
        "<rect height=\"22\" style=\" fill:rgb(255, 255, 255); stroke:rgb(0, 0, 0); stroke-width:1\" width=\"100\" x=\"1\" y=\"136\"/>\n",
        "<line style=\"stroke:rgb(0, 0, 0); stroke-width:1\" x1=\"50\" x2=\"50\" y1=\"26\" y2=\"158\"/>\n",
        "</svg>"
       ],
       "text": [
        "<IPython.core.display.SVG at 0x4ba6090>"
       ]
      }
     ],
     "prompt_number": 15
    },
    {
     "cell_type": "code",
     "collapsed": false,
     "input": [],
     "language": "python",
     "metadata": {},
     "outputs": [],
     "prompt_number": 9
    }
   ],
   "metadata": {}
  }
 ]
}