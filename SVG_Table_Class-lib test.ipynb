{
 "metadata": {
  "name": "SVG_Table_Class-lib test"
 },
 "nbformat": 3,
 "nbformat_minor": 0,
 "worksheets": [
  {
   "cells": [
    {
     "cell_type": "heading",
     "level": 1,
     "metadata": {},
     "source": [
      "SVG Table Class"
     ]
    },
    {
     "cell_type": "code",
     "collapsed": false,
     "input": [
      "cd Git_quickref_project/"
     ],
     "language": "python",
     "metadata": {},
     "outputs": [
      {
       "output_type": "stream",
       "stream": "stdout",
       "text": [
        "/home/damon/Documents/CODE/Programing/Python/IPython/Quickref/Git_quickref_project\n"
       ]
      }
     ],
     "prompt_number": 1
    },
    {
     "cell_type": "code",
     "collapsed": false,
     "input": [
      "from IPython.display import SVG"
     ],
     "language": "python",
     "metadata": {},
     "outputs": [],
     "prompt_number": 2
    },
    {
     "cell_type": "code",
     "collapsed": false,
     "input": [
      "%run SVG_Table_Classes"
     ],
     "language": "python",
     "metadata": {},
     "outputs": [],
     "prompt_number": 3
    },
    {
     "cell_type": "markdown",
     "metadata": {},
     "source": [
      "This is a class developed to draw SVG tables with text for IPython Qick Referance."
     ]
    },
    {
     "cell_type": "code",
     "collapsed": false,
     "input": [
      "test=SVG_Text_obj(\"testing\")\n",
      "SVG(test.get_SVG_text())"
     ],
     "language": "python",
     "metadata": {},
     "outputs": [
      {
       "output_type": "pyout",
       "prompt_number": 4,
       "svg": [
        "<text x=\"6\"  y=\"13\"  font-size= \"12\"  font-weight = \"normal\" style=\"fill:rgb(0, 0, 0)\"> testing </text>\n"
       ],
       "text": [
        "<IPython.core.display.SVG at 0x4974690>"
       ]
      }
     ],
     "prompt_number": 4
    },
    {
     "cell_type": "code",
     "collapsed": false,
     "input": [
      "head=Table_Header(text=\"Header\",width=100)\n",
      "print(head.text)\n",
      "print(head.get_SVG_header())\n",
      "print(\"The bottom of the header is at {} px\\n\".format(head.bottom))\n",
      "Text=Set_SVG_view(102, head.bottom+2, head.get_SVG_header())\n",
      "print(Text)\n",
      "SVG(Text)"
     ],
     "language": "python",
     "metadata": {},
     "outputs": [
      {
       "output_type": "stream",
       "stream": "stdout",
       "text": [
        "Header\n",
        "<rect  height=\"30\" width=\"100\"  style=\" fill:rgb(255, 255, 255); stroke:rgb(0, 0, 0); stroke-width:1\"  x=\"1\"  y=\"1\" />\n",
        "<text x=\"7\"  y=\"21\"  font-size= \"14\"  font-weight = \"bold\" style=\"fill:rgb(0, 0, 0)\"> Header </text>\n",
        "\n",
        "The bottom of the header is at 30 px\n",
        "\n",
        "<SVG viewBox=\"0 0 102 32\" height=\"32\"><rect  height=\"30\" width=\"100\"  style=\" fill:rgb(255, 255, 255); stroke:rgb(0, 0, 0); stroke-width:1\"  x=\"1\"  y=\"1\" />\n",
        "<text x=\"7\"  y=\"21\"  font-size= \"14\"  font-weight = \"bold\" style=\"fill:rgb(0, 0, 0)\"> Header </text>\n",
        "</SVG>\n"
       ]
      },
      {
       "output_type": "pyout",
       "prompt_number": 5,
       "svg": [
        "<SVG viewBox=\"0 0 102 32\" height=\"32\"><rect  height=\"30\" width=\"100\"  style=\" fill:rgb(255, 255, 255); stroke:rgb(0, 0, 0); stroke-width:1\"  x=\"1\"  y=\"1\" />\n",
        "<text x=\"7\"  y=\"21\"  font-size= \"14\"  font-weight = \"bold\" style=\"fill:rgb(0, 0, 0)\"> Header </text>\n",
        "</SVG>"
       ],
       "text": [
        "<IPython.core.display.SVG at 0x499aa90>"
       ]
      }
     ],
     "prompt_number": 5
    },
    {
     "cell_type": "markdown",
     "metadata": {},
     "source": [
      "####You should see a white rectangle the header text inside above"
     ]
    },
    {
     "cell_type": "code",
     "collapsed": false,
     "input": [
      "rows = Table_rows()\n",
      "#rows.set_count(6)\n",
      "text_list = [[\"Area\\ntest\"],[\"Area\"],[\"Dog\"],[\"Area\"],[\"Area\"]]\n",
      "rows.set_text_list(text_list)\n",
      "rows.column_locations=[0,40]\n",
      "rows.__height__=30 #only the minimum value is set automatically\n",
      "print(rows.__count__)\n",
      "print(rows.bottom)\n",
      "print(rows.get_SVG_rows())\n",
      "Text=Set_SVG_view(rows.row_width+2*rows.line_width, rows.bottom+rows.line_width*2, rows.get_SVG_rows())\n",
      "SVG(Text)\n"
     ],
     "language": "python",
     "metadata": {},
     "outputs": [
      {
       "output_type": "stream",
       "stream": "stdout",
       "text": [
        "5\n",
        "150\n",
        "<rect  height=\"30\" width=\"100\"  style=\" fill:rgb(255, 255, 255); stroke:rgb(0, 0, 0); stroke-width:1\"  x=\"1\"  y=\"1\" />\n",
        "<text x=\"6\"  y=\"13\"  font-size= \"12\"  font-weight = \"normal\" style=\"fill:rgb(0, 0, 0)\"> Area <tspan x=\"6\" y=\"27\">test</tspan> </text>\n",
        "<rect  height=\"30\" width=\"100\"  style=\" fill:rgb(255, 255, 255); stroke:rgb(0, 0, 0); stroke-width:1\"  x=\"1\"  y=\"31\" />\n",
        "<text x=\"6\"  y=\"50\"  font-size= \"12\"  font-weight = \"normal\" style=\"fill:rgb(0, 0, 0)\"> Area </text>\n",
        "<rect  height=\"30\" width=\"100\"  style=\" fill:rgb(255, 255, 255); stroke:rgb(0, 0, 0); stroke-width:1\"  x=\"1\"  y=\"61\" />\n",
        "<text x=\"6\"  y=\"80\"  font-size= \"12\"  font-weight = \"normal\" style=\"fill:rgb(0, 0, 0)\"> Dog </text>\n",
        "<rect  height=\"30\" width=\"100\"  style=\" fill:rgb(255, 255, 255); stroke:rgb(0, 0, 0); stroke-width:1\"  x=\"1\"  y=\"91\" />\n",
        "<text x=\"6\"  y=\"110\"  font-size= \"12\"  font-weight = \"normal\" style=\"fill:rgb(0, 0, 0)\"> Area </text>\n",
        "<rect  height=\"30\" width=\"100\"  style=\" fill:rgb(255, 255, 255); stroke:rgb(0, 0, 0); stroke-width:1\"  x=\"1\"  y=\"121\" />\n",
        "<text x=\"6\"  y=\"140\"  font-size= \"12\"  font-weight = \"normal\" style=\"fill:rgb(0, 0, 0)\"> Area </text>\n",
        "<line x1=\"0\" y1=\"1\" x2=\"0\" y2=\"151\" style=\"stroke:rgb(0, 0, 0);stroke-width:1\"/>\n",
        "<line x1=\"40\" y1=\"1\" x2=\"40\" y2=\"151\" style=\"stroke:rgb(0, 0, 0);stroke-width:1\"/>\n",
        "\n"
       ]
      },
      {
       "output_type": "pyout",
       "prompt_number": 6,
       "svg": [
        "<SVG viewBox=\"0 0 102 152\" height=\"152\"><rect  height=\"30\" width=\"100\"  style=\" fill:rgb(255, 255, 255); stroke:rgb(0, 0, 0); stroke-width:1\"  x=\"1\"  y=\"1\" />\n",
        "<text x=\"6\"  y=\"13\"  font-size= \"12\"  font-weight = \"normal\" style=\"fill:rgb(0, 0, 0)\"> Area <tspan x=\"6\" y=\"27\">test</tspan> </text>\n",
        "<rect  height=\"30\" width=\"100\"  style=\" fill:rgb(255, 255, 255); stroke:rgb(0, 0, 0); stroke-width:1\"  x=\"1\"  y=\"31\" />\n",
        "<text x=\"6\"  y=\"50\"  font-size= \"12\"  font-weight = \"normal\" style=\"fill:rgb(0, 0, 0)\"> Area </text>\n",
        "<rect  height=\"30\" width=\"100\"  style=\" fill:rgb(255, 255, 255); stroke:rgb(0, 0, 0); stroke-width:1\"  x=\"1\"  y=\"61\" />\n",
        "<text x=\"6\"  y=\"80\"  font-size= \"12\"  font-weight = \"normal\" style=\"fill:rgb(0, 0, 0)\"> Dog </text>\n",
        "<rect  height=\"30\" width=\"100\"  style=\" fill:rgb(255, 255, 255); stroke:rgb(0, 0, 0); stroke-width:1\"  x=\"1\"  y=\"91\" />\n",
        "<text x=\"6\"  y=\"110\"  font-size= \"12\"  font-weight = \"normal\" style=\"fill:rgb(0, 0, 0)\"> Area </text>\n",
        "<rect  height=\"30\" width=\"100\"  style=\" fill:rgb(255, 255, 255); stroke:rgb(0, 0, 0); stroke-width:1\"  x=\"1\"  y=\"121\" />\n",
        "<text x=\"6\"  y=\"140\"  font-size= \"12\"  font-weight = \"normal\" style=\"fill:rgb(0, 0, 0)\"> Area </text>\n",
        "<line x1=\"0\" y1=\"1\" x2=\"0\" y2=\"151\" style=\"stroke:rgb(0, 0, 0);stroke-width:1\"/>\n",
        "<line x1=\"40\" y1=\"1\" x2=\"40\" y2=\"151\" style=\"stroke:rgb(0, 0, 0);stroke-width:1\"/>\n",
        "</SVG>"
       ],
       "text": [
        "<IPython.core.display.SVG at 0x499e890>"
       ]
      }
     ],
     "prompt_number": 6
    },
    {
     "cell_type": "code",
     "collapsed": false,
     "input": [
      "rows = Table_rows()\n",
      "rows.set_count(6)\n",
      "text_list = [[\"Area\"],[\"Area\"],[\"Dog\"],[\"Area\"],[\"Area\"]]\n",
      "rows.set_text_list(text_list)\n",
      "rows.column_locations=[0,60]\n",
      "print(rows.__count__)\n",
      "print(rows.bottom)\n",
      "print(rows.get_SVG_rows())\n",
      "Text=Set_SVG_view(rows.row_width+2*rows.line_width, rows.bottom+rows.line_width*2, rows.get_SVG_rows())\n",
      "SVG(Text)"
     ],
     "language": "python",
     "metadata": {},
     "outputs": [
      {
       "output_type": "stream",
       "stream": "stdout",
       "text": [
        "6\n",
        "96\n",
        "<rect  height=\"16\" width=\"100\"  style=\" fill:rgb(255, 255, 255); stroke:rgb(0, 0, 0); stroke-width:1\"  x=\"1\"  y=\"1\" />\n",
        "<text x=\"6\"  y=\"13\"  font-size= \"12\"  font-weight = \"normal\" style=\"fill:rgb(0, 0, 0)\"> Area </text>\n",
        "<rect  height=\"16\" width=\"100\"  style=\" fill:rgb(255, 255, 255); stroke:rgb(0, 0, 0); stroke-width:1\"  x=\"1\"  y=\"17\" />\n",
        "<text x=\"6\"  y=\"29\"  font-size= \"12\"  font-weight = \"normal\" style=\"fill:rgb(0, 0, 0)\"> Area </text>\n",
        "<rect  height=\"16\" width=\"100\"  style=\" fill:rgb(255, 255, 255); stroke:rgb(0, 0, 0); stroke-width:1\"  x=\"1\"  y=\"33\" />\n",
        "<text x=\"6\"  y=\"45\"  font-size= \"12\"  font-weight = \"normal\" style=\"fill:rgb(0, 0, 0)\"> Dog </text>\n",
        "<rect  height=\"16\" width=\"100\"  style=\" fill:rgb(255, 255, 255); stroke:rgb(0, 0, 0); stroke-width:1\"  x=\"1\"  y=\"49\" />\n",
        "<text x=\"6\"  y=\"61\"  font-size= \"12\"  font-weight = \"normal\" style=\"fill:rgb(0, 0, 0)\"> Area </text>\n",
        "<rect  height=\"16\" width=\"100\"  style=\" fill:rgb(255, 255, 255); stroke:rgb(0, 0, 0); stroke-width:1\"  x=\"1\"  y=\"65\" />\n",
        "<text x=\"6\"  y=\"77\"  font-size= \"12\"  font-weight = \"normal\" style=\"fill:rgb(0, 0, 0)\"> Area </text>\n",
        "<rect  height=\"16\" width=\"100\"  style=\" fill:rgb(255, 255, 255); stroke:rgb(0, 0, 0); stroke-width:1\"  x=\"1\"  y=\"81\" />\n",
        "<line x1=\"0\" y1=\"1\" x2=\"0\" y2=\"97\" style=\"stroke:rgb(0, 0, 0);stroke-width:1\"/>\n",
        "<line x1=\"60\" y1=\"1\" x2=\"60\" y2=\"97\" style=\"stroke:rgb(0, 0, 0);stroke-width:1\"/>\n",
        "\n"
       ]
      },
      {
       "output_type": "pyout",
       "prompt_number": 7,
       "svg": [
        "<SVG viewBox=\"0 0 102 98\" height=\"98\"><rect  height=\"16\" width=\"100\"  style=\" fill:rgb(255, 255, 255); stroke:rgb(0, 0, 0); stroke-width:1\"  x=\"1\"  y=\"1\" />\n",
        "<text x=\"6\"  y=\"13\"  font-size= \"12\"  font-weight = \"normal\" style=\"fill:rgb(0, 0, 0)\"> Area </text>\n",
        "<rect  height=\"16\" width=\"100\"  style=\" fill:rgb(255, 255, 255); stroke:rgb(0, 0, 0); stroke-width:1\"  x=\"1\"  y=\"17\" />\n",
        "<text x=\"6\"  y=\"29\"  font-size= \"12\"  font-weight = \"normal\" style=\"fill:rgb(0, 0, 0)\"> Area </text>\n",
        "<rect  height=\"16\" width=\"100\"  style=\" fill:rgb(255, 255, 255); stroke:rgb(0, 0, 0); stroke-width:1\"  x=\"1\"  y=\"33\" />\n",
        "<text x=\"6\"  y=\"45\"  font-size= \"12\"  font-weight = \"normal\" style=\"fill:rgb(0, 0, 0)\"> Dog </text>\n",
        "<rect  height=\"16\" width=\"100\"  style=\" fill:rgb(255, 255, 255); stroke:rgb(0, 0, 0); stroke-width:1\"  x=\"1\"  y=\"49\" />\n",
        "<text x=\"6\"  y=\"61\"  font-size= \"12\"  font-weight = \"normal\" style=\"fill:rgb(0, 0, 0)\"> Area </text>\n",
        "<rect  height=\"16\" width=\"100\"  style=\" fill:rgb(255, 255, 255); stroke:rgb(0, 0, 0); stroke-width:1\"  x=\"1\"  y=\"65\" />\n",
        "<text x=\"6\"  y=\"77\"  font-size= \"12\"  font-weight = \"normal\" style=\"fill:rgb(0, 0, 0)\"> Area </text>\n",
        "<rect  height=\"16\" width=\"100\"  style=\" fill:rgb(255, 255, 255); stroke:rgb(0, 0, 0); stroke-width:1\"  x=\"1\"  y=\"81\" />\n",
        "<line x1=\"0\" y1=\"1\" x2=\"0\" y2=\"97\" style=\"stroke:rgb(0, 0, 0);stroke-width:1\"/>\n",
        "<line x1=\"60\" y1=\"1\" x2=\"60\" y2=\"97\" style=\"stroke:rgb(0, 0, 0);stroke-width:1\"/>\n",
        "</SVG>"
       ],
       "text": [
        "<IPython.core.display.SVG at 0x499e990>"
       ]
      }
     ],
     "prompt_number": 7
    },
    {
     "cell_type": "code",
     "collapsed": false,
     "input": [
      "rows = Table_rows()\n",
      "rows.set_count(6)\n",
      "text_list = [[\"Area\\n new line\"],[\"Area\"],[\"Dog\"],[\"Area\"],[\"Area\"]]\n",
      "rows.set_text_list(text_list)\n",
      "rows.__height__=25 #only the minimum value is set automatically\n",
      "rows.column_locations=[0,60]\n",
      "Text=Set_SVG_view(rows.row_width+2*rows.line_width, rows.bottom+rows.line_width*2, rows.get_SVG_rows())\n",
      "SVG(Text)"
     ],
     "language": "python",
     "metadata": {},
     "outputs": [
      {
       "output_type": "pyout",
       "prompt_number": 8,
       "svg": [
        "<SVG viewBox=\"0 0 102 152\" height=\"152\"><rect  height=\"25\" width=\"100\"  style=\" fill:rgb(255, 255, 255); stroke:rgb(0, 0, 0); stroke-width:1\"  x=\"1\"  y=\"1\" />\n",
        "<text x=\"6\"  y=\"13\"  font-size= \"12\"  font-weight = \"normal\" style=\"fill:rgb(0, 0, 0)\"> Area <tspan x=\"6\" y=\"27\"> new line</tspan> </text>\n",
        "<rect  height=\"25\" width=\"100\"  style=\" fill:rgb(255, 255, 255); stroke:rgb(0, 0, 0); stroke-width:1\"  x=\"1\"  y=\"26\" />\n",
        "<text x=\"6\"  y=\"42\"  font-size= \"12\"  font-weight = \"normal\" style=\"fill:rgb(0, 0, 0)\"> Area </text>\n",
        "<rect  height=\"25\" width=\"100\"  style=\" fill:rgb(255, 255, 255); stroke:rgb(0, 0, 0); stroke-width:1\"  x=\"1\"  y=\"51\" />\n",
        "<text x=\"6\"  y=\"67\"  font-size= \"12\"  font-weight = \"normal\" style=\"fill:rgb(0, 0, 0)\"> Dog </text>\n",
        "<rect  height=\"25\" width=\"100\"  style=\" fill:rgb(255, 255, 255); stroke:rgb(0, 0, 0); stroke-width:1\"  x=\"1\"  y=\"76\" />\n",
        "<text x=\"6\"  y=\"92\"  font-size= \"12\"  font-weight = \"normal\" style=\"fill:rgb(0, 0, 0)\"> Area </text>\n",
        "<rect  height=\"25\" width=\"100\"  style=\" fill:rgb(255, 255, 255); stroke:rgb(0, 0, 0); stroke-width:1\"  x=\"1\"  y=\"101\" />\n",
        "<text x=\"6\"  y=\"117\"  font-size= \"12\"  font-weight = \"normal\" style=\"fill:rgb(0, 0, 0)\"> Area </text>\n",
        "<rect  height=\"25\" width=\"100\"  style=\" fill:rgb(255, 255, 255); stroke:rgb(0, 0, 0); stroke-width:1\"  x=\"1\"  y=\"126\" />\n",
        "<line x1=\"0\" y1=\"1\" x2=\"0\" y2=\"151\" style=\"stroke:rgb(0, 0, 0);stroke-width:1\"/>\n",
        "<line x1=\"60\" y1=\"1\" x2=\"60\" y2=\"151\" style=\"stroke:rgb(0, 0, 0);stroke-width:1\"/>\n",
        "</SVG>"
       ],
       "text": [
        "<IPython.core.display.SVG at 0x499e6d0>"
       ]
      }
     ],
     "prompt_number": 8
    },
    {
     "cell_type": "code",
     "collapsed": false,
     "input": [
      "head=Table_Header(text=\"Header\",width=100)\n",
      "\n",
      "\n",
      "rows = Table_rows(top_left=[0,head.bottom])\n",
      "rows.set_count(6)\n",
      "text_list = [[\"Area\",\"blue\"],[\"Area\",\"blue\"],[\"Dog\",\"blue\"],[\"Area\",\"blue\"],[\"Area\",\"blue\"]]\n",
      "rows.set_text_list(text_list)\n",
      "rows.column_locations=[0,50]\n",
      "rows.x_shift=5\n",
      "display_text=head.get_SVG_header()+rows.get_SVG_rows()\n",
      "Text=Set_SVG_view(102, rows.bottom+2, display_text)\n",
      "print(Text)\n",
      "SVG(Text)"
     ],
     "language": "python",
     "metadata": {},
     "outputs": [
      {
       "output_type": "stream",
       "stream": "stdout",
       "text": [
        "<SVG viewBox=\"0 0 102 128\" height=\"128\"><rect  height=\"30\" width=\"100\"  style=\" fill:rgb(255, 255, 255); stroke:rgb(0, 0, 0); stroke-width:1\"  x=\"1\"  y=\"1\" />\n",
        "<text x=\"7\"  y=\"21\"  font-size= \"14\"  font-weight = \"bold\" style=\"fill:rgb(0, 0, 0)\"> Header </text>\n",
        "<rect  height=\"16\" width=\"100\"  style=\" fill:rgb(255, 255, 255); stroke:rgb(0, 0, 0); stroke-width:1\"  x=\"1\"  y=\"31\" />\n",
        "<text x=\"11\"  y=\"43\"  font-size= \"12\"  font-weight = \"normal\" style=\"fill:rgb(0, 0, 0)\"> Area </text>\n",
        "<text x=\"61\"  y=\"43\"  font-size= \"12\"  font-weight = \"normal\" style=\"fill:rgb(0, 0, 0)\"> blue </text>\n",
        "<rect  height=\"16\" width=\"100\"  style=\" fill:rgb(255, 255, 255); stroke:rgb(0, 0, 0); stroke-width:1\"  x=\"1\"  y=\"47\" />\n",
        "<text x=\"11\"  y=\"59\"  font-size= \"12\"  font-weight = \"normal\" style=\"fill:rgb(0, 0, 0)\"> Area </text>\n",
        "<text x=\"61\"  y=\"59\"  font-size= \"12\"  font-weight = \"normal\" style=\"fill:rgb(0, 0, 0)\"> blue </text>\n",
        "<rect  height=\"16\" width=\"100\"  style=\" fill:rgb(255, 255, 255); stroke:rgb(0, 0, 0); stroke-width:1\"  x=\"1\"  y=\"63\" />\n",
        "<text x=\"11\"  y=\"75\"  font-size= \"12\"  font-weight = \"normal\" style=\"fill:rgb(0, 0, 0)\"> Dog </text>\n",
        "<text x=\"61\"  y=\"75\"  font-size= \"12\"  font-weight = \"normal\" style=\"fill:rgb(0, 0, 0)\"> blue </text>\n",
        "<rect  height=\"16\" width=\"100\"  style=\" fill:rgb(255, 255, 255); stroke:rgb(0, 0, 0); stroke-width:1\"  x=\"1\"  y=\"79\" />\n",
        "<text x=\"11\"  y=\"91\"  font-size= \"12\"  font-weight = \"normal\" style=\"fill:rgb(0, 0, 0)\"> Area </text>\n",
        "<text x=\"61\"  y=\"91\"  font-size= \"12\"  font-weight = \"normal\" style=\"fill:rgb(0, 0, 0)\"> blue </text>\n",
        "<rect  height=\"16\" width=\"100\"  style=\" fill:rgb(255, 255, 255); stroke:rgb(0, 0, 0); stroke-width:1\"  x=\"1\"  y=\"95\" />\n",
        "<text x=\"11\"  y=\"107\"  font-size= \"12\"  font-weight = \"normal\" style=\"fill:rgb(0, 0, 0)\"> Area </text>\n",
        "<text x=\"61\"  y=\"107\"  font-size= \"12\"  font-weight = \"normal\" style=\"fill:rgb(0, 0, 0)\"> blue </text>\n",
        "<rect  height=\"16\" width=\"100\"  style=\" fill:rgb(255, 255, 255); stroke:rgb(0, 0, 0); stroke-width:1\"  x=\"1\"  y=\"111\" />\n",
        "<line x1=\"0\" y1=\"31\" x2=\"0\" y2=\"127\" style=\"stroke:rgb(0, 0, 0);stroke-width:1\"/>\n",
        "<line x1=\"50\" y1=\"31\" x2=\"50\" y2=\"127\" style=\"stroke:rgb(0, 0, 0);stroke-width:1\"/>\n",
        "</SVG>\n"
       ]
      },
      {
       "output_type": "pyout",
       "prompt_number": 9,
       "svg": [
        "<SVG viewBox=\"0 0 102 128\" height=\"128\"><rect  height=\"30\" width=\"100\"  style=\" fill:rgb(255, 255, 255); stroke:rgb(0, 0, 0); stroke-width:1\"  x=\"1\"  y=\"1\" />\n",
        "<text x=\"7\"  y=\"21\"  font-size= \"14\"  font-weight = \"bold\" style=\"fill:rgb(0, 0, 0)\"> Header </text>\n",
        "<rect  height=\"16\" width=\"100\"  style=\" fill:rgb(255, 255, 255); stroke:rgb(0, 0, 0); stroke-width:1\"  x=\"1\"  y=\"31\" />\n",
        "<text x=\"11\"  y=\"43\"  font-size= \"12\"  font-weight = \"normal\" style=\"fill:rgb(0, 0, 0)\"> Area </text>\n",
        "<text x=\"61\"  y=\"43\"  font-size= \"12\"  font-weight = \"normal\" style=\"fill:rgb(0, 0, 0)\"> blue </text>\n",
        "<rect  height=\"16\" width=\"100\"  style=\" fill:rgb(255, 255, 255); stroke:rgb(0, 0, 0); stroke-width:1\"  x=\"1\"  y=\"47\" />\n",
        "<text x=\"11\"  y=\"59\"  font-size= \"12\"  font-weight = \"normal\" style=\"fill:rgb(0, 0, 0)\"> Area </text>\n",
        "<text x=\"61\"  y=\"59\"  font-size= \"12\"  font-weight = \"normal\" style=\"fill:rgb(0, 0, 0)\"> blue </text>\n",
        "<rect  height=\"16\" width=\"100\"  style=\" fill:rgb(255, 255, 255); stroke:rgb(0, 0, 0); stroke-width:1\"  x=\"1\"  y=\"63\" />\n",
        "<text x=\"11\"  y=\"75\"  font-size= \"12\"  font-weight = \"normal\" style=\"fill:rgb(0, 0, 0)\"> Dog </text>\n",
        "<text x=\"61\"  y=\"75\"  font-size= \"12\"  font-weight = \"normal\" style=\"fill:rgb(0, 0, 0)\"> blue </text>\n",
        "<rect  height=\"16\" width=\"100\"  style=\" fill:rgb(255, 255, 255); stroke:rgb(0, 0, 0); stroke-width:1\"  x=\"1\"  y=\"79\" />\n",
        "<text x=\"11\"  y=\"91\"  font-size= \"12\"  font-weight = \"normal\" style=\"fill:rgb(0, 0, 0)\"> Area </text>\n",
        "<text x=\"61\"  y=\"91\"  font-size= \"12\"  font-weight = \"normal\" style=\"fill:rgb(0, 0, 0)\"> blue </text>\n",
        "<rect  height=\"16\" width=\"100\"  style=\" fill:rgb(255, 255, 255); stroke:rgb(0, 0, 0); stroke-width:1\"  x=\"1\"  y=\"95\" />\n",
        "<text x=\"11\"  y=\"107\"  font-size= \"12\"  font-weight = \"normal\" style=\"fill:rgb(0, 0, 0)\"> Area </text>\n",
        "<text x=\"61\"  y=\"107\"  font-size= \"12\"  font-weight = \"normal\" style=\"fill:rgb(0, 0, 0)\"> blue </text>\n",
        "<rect  height=\"16\" width=\"100\"  style=\" fill:rgb(255, 255, 255); stroke:rgb(0, 0, 0); stroke-width:1\"  x=\"1\"  y=\"111\" />\n",
        "<line x1=\"0\" y1=\"31\" x2=\"0\" y2=\"127\" style=\"stroke:rgb(0, 0, 0);stroke-width:1\"/>\n",
        "<line x1=\"50\" y1=\"31\" x2=\"50\" y2=\"127\" style=\"stroke:rgb(0, 0, 0);stroke-width:1\"/>\n",
        "</SVG>"
       ],
       "text": [
        "<IPython.core.display.SVG at 0x499a9d0>"
       ]
      }
     ],
     "prompt_number": 9
    },
    {
     "cell_type": "code",
     "collapsed": false,
     "input": [],
     "language": "python",
     "metadata": {},
     "outputs": [],
     "prompt_number": 9
    }
   ],
   "metadata": {}
  }
 ]
}